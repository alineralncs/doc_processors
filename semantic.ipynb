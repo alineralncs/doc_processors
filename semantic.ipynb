{
 "cells": [
  {
   "cell_type": "code",
   "execution_count": 1,
   "metadata": {},
   "outputs": [],
   "source": [
    "import os\n",
    "\n",
    "from docarray import Document, DocumentArray\n",
    "from fastapi import APIRouter\n",
    "from tqdm import tqdm\n",
    "\n",
    "from routers.processor_service import ProcessorService\n",
    "from routers.processor_router import preprocess_documents\n",
    "\n",
    "from gensim import corpora, models\n",
    "\n",
    "import matplotlib.pyplot as plt\n",
    "import matplotlib.colors as mcolors\n",
    "\n",
    "import gensim\n",
    "import nltk\n",
    "\n",
    "import spacy"
   ]
  },
  {
   "cell_type": "code",
   "execution_count": 4,
   "metadata": {},
   "outputs": [],
   "source": [
    "result_preprocess = preprocess_documents()\n",
    "    \n",
    "text = result_preprocess[\"results\"][1][\"texto\"]\n",
    "\n",
    "def make_bigrams(texts):\n",
    "    bigram = gensim.models.Phrases(texts, min_count=5, threshold=100)\n",
    "    bigram_mod = gensim.models.phrases.Phraser(bigram)\n",
    "    return [bigram_mod[doc] for doc in texts]\n",
    "def make_trigrams(texts):\n",
    "    trigram = gensim.models.Phrases(bigram[texts], threshold=100)\n",
    "    trigram_mod = gensim.models.phrases.Phraser(trigram)\n",
    "    return [trigram_mod[bigram_mod[doc]] for doc in texts]\n"
   ]
  },
  {
   "cell_type": "code",
   "execution_count": 5,
   "metadata": {},
   "outputs": [],
   "source": [
    "data_word_bigrams = make_bigrams(text)\n"
   ]
  },
  {
   "cell_type": "code",
   "execution_count": 9,
   "metadata": {},
   "outputs": [],
   "source": [
    "\n",
    "tokenized_text = nltk.word_tokenize(text)\n",
    "    \n",
    "dictionary = corpora.Dictionary([tokenized_text])\n",
    "corpus = [dictionary.doc2bow(tokenized_text) for text in tokenized_text]"
   ]
  },
  {
   "cell_type": "code",
   "execution_count": 10,
   "metadata": {},
   "outputs": [
    {
     "name": "stdout",
     "output_type": "stream",
     "text": [
      "[(0, 4), (1, 2), (2, 2), (3, 2), (4, 2), (5, 2), (6, 2), (7, 6), (8, 4), (9, 2), (10, 2), (11, 14), (12, 2), (13, 4), (14, 2), (15, 2), (16, 2), (17, 2), (18, 2), (19, 2), (20, 2), (21, 2), (22, 14), (23, 10), (24, 2), (25, 2), (26, 2), (27, 2), (28, 10), (29, 8)]\n"
     ]
    }
   ],
   "source": [
    "print(corpus[:1][0][:30])\n"
   ]
  },
  {
   "cell_type": "code",
   "execution_count": 11,
   "metadata": {},
   "outputs": [],
   "source": [
    "lda_model = gensim.models.LdaMulticore(corpus=corpus,\n",
    "                                       id2word=dictionary,\n",
    "                                       num_topics=10, \n",
    "                                       random_state=100,\n",
    "                                       chunksize=100,\n",
    "                                       passes=10,\n",
    "                                       per_word_topics=True)"
   ]
  },
  {
   "cell_type": "code",
   "execution_count": 14,
   "metadata": {},
   "outputs": [
    {
     "name": "stdout",
     "output_type": "stream",
     "text": [
      "[(0,\n",
      "  '0.020*\"interna\" + 0.020*\"conselho\" + 0.020*\"constituinte\" + 0.017*\"cada\" + '\n",
      "  '0.016*\"representantes\" + 0.015*\"assembléia\" + 0.014*\"resolução\" + '\n",
      "  '0.014*\"delegados\" + 0.012*\"campus\" + 0.011*\"desta\"'),\n",
      " (1,\n",
      "  '0.028*\"constituinte\" + 0.023*\"interna\" + 0.020*\"cada\" + 0.018*\"delegados\" + '\n",
      "  '0.017*\"conselho\" + 0.017*\"assembléia\" + 0.016*\"representantes\" + '\n",
      "  '0.016*\"campus\" + 0.015*\"resolução\" + 0.013*\"categoria\"'),\n",
      " (2,\n",
      "  '0.024*\"interna\" + 0.021*\"assembléia\" + 0.020*\"representantes\" + '\n",
      "  '0.019*\"constituinte\" + 0.017*\"resolução\" + 0.016*\"cada\" + 0.016*\"conselho\" '\n",
      "  '+ 0.014*\"delegados\" + 0.014*\"categoria\" + 0.012*\"tocantins\"'),\n",
      " (3,\n",
      "  '0.025*\"interna\" + 0.023*\"constituinte\" + 0.020*\"conselho\" + 0.019*\"cada\" + '\n",
      "  '0.017*\"representantes\" + 0.017*\"assembléia\" + 0.017*\"delegados\" + '\n",
      "  '0.015*\"resolução\" + 0.014*\"campus\" + 0.013*\"dia\"'),\n",
      " (4,\n",
      "  '0.021*\"interna\" + 0.021*\"conselho\" + 0.018*\"cada\" + 0.018*\"assembléia\" + '\n",
      "  '0.017*\"representantes\" + 0.015*\"delegados\" + 0.015*\"constituinte\" + '\n",
      "  '0.014*\"resolução\" + 0.012*\"categoria\" + 0.011*\"eleição\"'),\n",
      " (5,\n",
      "  '0.024*\"interna\" + 0.019*\"constituinte\" + 0.017*\"cada\" + 0.017*\"resolução\" + '\n",
      "  '0.016*\"conselho\" + 0.015*\"delegados\" + 0.014*\"assembléia\" + 0.013*\"campus\" '\n",
      "  '+ 0.013*\"representantes\" + 0.013*\"presente\"'),\n",
      " (6,\n",
      "  '0.023*\"constituinte\" + 0.020*\"conselho\" + 0.019*\"interna\" + 0.018*\"cada\" + '\n",
      "  '0.018*\"assembléia\" + 0.017*\"delegados\" + 0.015*\"resolução\" + 0.013*\"campus\" '\n",
      "  '+ 0.012*\"categorias\" + 0.012*\"federal\"'),\n",
      " (7,\n",
      "  '0.024*\"interna\" + 0.019*\"assembléia\" + 0.017*\"constituinte\" + 0.016*\"cada\" '\n",
      "  '+ 0.015*\"resolução\" + 0.015*\"conselho\" + 0.014*\"representantes\" + '\n",
      "  '0.013*\"delegados\" + 0.012*\"categoria\" + 0.012*\"campus\"'),\n",
      " (8,\n",
      "  '0.026*\"interna\" + 0.022*\"cada\" + 0.019*\"assembléia\" + 0.016*\"constituinte\" '\n",
      "  '+ 0.016*\"representantes\" + 0.015*\"delegados\" + 0.015*\"conselho\" + '\n",
      "  '0.015*\"resolução\" + 0.014*\"categoria\" + 0.011*\"categorias\"'),\n",
      " (9,\n",
      "  '0.024*\"constituinte\" + 0.022*\"interna\" + 0.020*\"assembléia\" + '\n",
      "  '0.017*\"categoria\" + 0.017*\"conselho\" + 0.016*\"cada\" + 0.014*\"campus\" + '\n",
      "  '0.014*\"delegados\" + 0.014*\"resolução\" + 0.013*\"representantes\"')]\n"
     ]
    }
   ],
   "source": [
    "from pprint import pprint\n",
    "\n",
    "pprint(lda_model.print_topics())\n",
    "doc_lda = lda_model[corpus]"
   ]
  },
  {
   "cell_type": "code",
   "execution_count": 27,
   "metadata": {},
   "outputs": [
    {
     "name": "stdout",
     "output_type": "stream",
     "text": [
      "[(0,\n",
      "  '0.024*\"interna\" + 0.021*\"assembléia\" + 0.018*\"constituinte\" + '\n",
      "  '0.018*\"conselho\" + 0.016*\"cada\" + 0.016*\"representantes\" + '\n",
      "  '0.015*\"categoria\" + 0.013*\"federal\" + 0.012*\"presente\" + '\n",
      "  '0.012*\"funcionamento\"'),\n",
      " (1,\n",
      "  '0.026*\"constituinte\" + 0.023*\"interna\" + 0.022*\"conselho\" + '\n",
      "  '0.020*\"assembléia\" + 0.019*\"resolução\" + 0.018*\"cada\" + '\n",
      "  '0.017*\"representantes\" + 0.015*\"delegados\" + 0.013*\"categoria\" + '\n",
      "  '0.013*\"federal\"'),\n",
      " (2,\n",
      "  '0.029*\"conselho\" + 0.022*\"delegados\" + 0.020*\"assembléia\" + 0.019*\"interna\" '\n",
      "  '+ 0.018*\"constituinte\" + 0.018*\"cada\" + 0.015*\"representantes\" + '\n",
      "  '0.012*\"funcionamento\" + 0.012*\"presente\" + 0.012*\"resolução\"'),\n",
      " (3,\n",
      "  '0.020*\"interna\" + 0.019*\"constituinte\" + 0.018*\"cada\" + 0.017*\"assembléia\" '\n",
      "  '+ 0.016*\"resolução\" + 0.016*\"conselho\" + 0.014*\"delegados\" + '\n",
      "  '0.013*\"representantes\" + 0.012*\"eleição\" + 0.012*\"categoria\"'),\n",
      " (4,\n",
      "  '0.035*\"interna\" + 0.021*\"cada\" + 0.018*\"constituinte\" + 0.016*\"conselho\" + '\n",
      "  '0.014*\"representantes\" + 0.013*\"categoria\" + 0.013*\"resolução\" + '\n",
      "  '0.013*\"tocantins\" + 0.013*\"delegados\" + 0.012*\"assembléia\"'),\n",
      " (5,\n",
      "  '0.020*\"cada\" + 0.020*\"interna\" + 0.018*\"resolução\" + 0.016*\"constituinte\" + '\n",
      "  '0.016*\"conselho\" + 0.016*\"assembléia\" + 0.015*\"delegados\" + '\n",
      "  '0.015*\"representantes\" + 0.014*\"categoria\" + 0.012*\"presente\"'),\n",
      " (6,\n",
      "  '0.028*\"interna\" + 0.020*\"assembléia\" + 0.018*\"constituinte\" + '\n",
      "  '0.018*\"delegados\" + 0.017*\"representantes\" + 0.016*\"conselho\" + '\n",
      "  '0.015*\"resolução\" + 0.013*\"campus\" + 0.013*\"funcionamento\" + 0.013*\"cada\"'),\n",
      " (7,\n",
      "  '0.024*\"constituinte\" + 0.019*\"assembléia\" + 0.018*\"interna\" + '\n",
      "  '0.017*\"campus\" + 0.016*\"delegados\" + 0.015*\"representantes\" + 0.014*\"cada\" '\n",
      "  '+ 0.013*\"resolução\" + 0.013*\"conselho\" + 0.012*\"tocantins\"'),\n",
      " (8,\n",
      "  '0.019*\"interna\" + 0.019*\"representantes\" + 0.017*\"constituinte\" + '\n",
      "  '0.017*\"cada\" + 0.016*\"delegados\" + 0.016*\"assembléia\" + 0.015*\"categoria\" + '\n",
      "  '0.014*\"campus\" + 0.013*\"conselho\" + 0.012*\"dia\"'),\n",
      " (9,\n",
      "  '0.022*\"cada\" + 0.022*\"interna\" + 0.019*\"constituinte\" + 0.018*\"conselho\" + '\n",
      "  '0.017*\"categoria\" + 0.016*\"assembléia\" + 0.015*\"representantes\" + '\n",
      "  '0.013*\"resolução\" + 0.013*\"categorias\" + 0.013*\"campus\"'),\n",
      " (10,\n",
      "  '0.023*\"interna\" + 0.022*\"constituinte\" + 0.021*\"cada\" + 0.016*\"conselho\" + '\n",
      "  '0.015*\"assembléia\" + 0.015*\"campus\" + 0.014*\"delegados\" + 0.013*\"resolução\" '\n",
      "  '+ 0.012*\"categoria\" + 0.012*\"categorias\"'),\n",
      " (11,\n",
      "  '0.020*\"interna\" + 0.020*\"delegados\" + 0.019*\"conselho\" + 0.019*\"cada\" + '\n",
      "  '0.019*\"assembléia\" + 0.016*\"resolução\" + 0.016*\"representantes\" + '\n",
      "  '0.015*\"constituinte\" + 0.014*\"campus\" + 0.013*\"categoria\"'),\n",
      " (12,\n",
      "  '0.027*\"interna\" + 0.025*\"constituinte\" + 0.018*\"delegados\" + '\n",
      "  '0.018*\"conselho\" + 0.017*\"assembléia\" + 0.017*\"campus\" + 0.017*\"resolução\" '\n",
      "  '+ 0.016*\"cada\" + 0.016*\"representantes\" + 0.011*\"categoria\"'),\n",
      " (13,\n",
      "  '0.025*\"constituinte\" + 0.024*\"assembléia\" + 0.020*\"interna\" + '\n",
      "  '0.017*\"conselho\" + 0.016*\"resolução\" + 0.014*\"cada\" + '\n",
      "  '0.014*\"representantes\" + 0.013*\"delegados\" + 0.013*\"campus\" + '\n",
      "  '0.011*\"presente\"'),\n",
      " (14,\n",
      "  '0.024*\"interna\" + 0.024*\"constituinte\" + 0.021*\"conselho\" + 0.020*\"cada\" + '\n",
      "  '0.018*\"resolução\" + 0.017*\"assembléia\" + 0.016*\"representantes\" + '\n",
      "  '0.014*\"categoria\" + 0.012*\"delegados\" + 0.012*\"campus\"'),\n",
      " (15,\n",
      "  '0.023*\"interna\" + 0.020*\"conselho\" + 0.018*\"assembléia\" + 0.016*\"resolução\" '\n",
      "  '+ 0.016*\"constituinte\" + 0.016*\"categoria\" + 0.014*\"delegados\" + '\n",
      "  '0.013*\"campus\" + 0.013*\"cada\" + 0.013*\"eleição\"'),\n",
      " (16,\n",
      "  '0.026*\"interna\" + 0.021*\"resolução\" + 0.021*\"constituinte\" + 0.020*\"cada\" + '\n",
      "  '0.019*\"assembléia\" + 0.015*\"conselho\" + 0.015*\"representantes\" + '\n",
      "  '0.014*\"delegados\" + 0.012*\"desta\" + 0.012*\"eleição\"'),\n",
      " (17,\n",
      "  '0.022*\"constituinte\" + 0.019*\"conselho\" + 0.019*\"delegados\" + '\n",
      "  '0.017*\"interna\" + 0.017*\"representantes\" + 0.015*\"assembléia\" + '\n",
      "  '0.015*\"campus\" + 0.014*\"cada\" + 0.014*\"desta\" + 0.014*\"categoria\"'),\n",
      " (18,\n",
      "  '0.025*\"interna\" + 0.023*\"constituinte\" + 0.021*\"representantes\" + '\n",
      "  '0.019*\"cada\" + 0.018*\"assembléia\" + 0.016*\"conselho\" + 0.015*\"resolução\" + '\n",
      "  '0.012*\"campus\" + 0.012*\"desta\" + 0.012*\"delegados\"'),\n",
      " (19,\n",
      "  '0.024*\"interna\" + 0.020*\"constituinte\" + 0.020*\"cada\" + 0.019*\"conselho\" + '\n",
      "  '0.018*\"assembléia\" + 0.018*\"resolução\" + 0.017*\"delegados\" + 0.016*\"campus\" '\n",
      "  '+ 0.013*\"representantes\" + 0.012*\"categoria\"')]\n"
     ]
    },
    {
     "name": "stderr",
     "output_type": "stream",
     "text": [
      "c:\\Users\\Aline\\anaconda3\\envs\\pre_env\\Lib\\site-packages\\gensim\\topic_coherence\\direct_confirmation_measure.py:204: RuntimeWarning: divide by zero encountered in scalar divide\n",
      "  m_lr_i = np.log(numerator / denominator)\n",
      "c:\\Users\\Aline\\anaconda3\\envs\\pre_env\\Lib\\site-packages\\gensim\\topic_coherence\\indirect_confirmation_measure.py:323: RuntimeWarning: invalid value encountered in scalar divide\n",
      "  return cv1.T.dot(cv2)[0, 0] / (_magnitude(cv1) * _magnitude(cv2))\n"
     ]
    },
    {
     "name": "stdout",
     "output_type": "stream",
     "text": [
      "Coherence Score:  nan\n"
     ]
    }
   ],
   "source": [
    "from gensim.models import CoherenceModel\n",
    "from gensim.models.ldamodel import LdaModel\n",
    "# Compute Coherence Score\n",
    "lda_model = LdaModel(corpus, id2word=dictionary, num_topics=20, alpha=0.1, passes=10)\n",
    "\n",
    "pprint(lda_model.print_topics())\n",
    "\n"
   ]
  },
  {
   "cell_type": "code",
   "execution_count": 29,
   "metadata": {},
   "outputs": [
    {
     "name": "stdout",
     "output_type": "stream",
     "text": [
      "Coherence Score:  0.35669589445084465\n"
     ]
    }
   ],
   "source": [
    "import nltk\n",
    "\n",
    "tokenized_text = nltk.word_tokenize(text)\n",
    "\n",
    "\n",
    "coherence_model_lda = CoherenceModel(model=lda_model, texts=[tokenized_text], dictionary=dictionary, coherence='c_v')\n",
    "coherence_lda = coherence_model_lda.get_coherence()\n",
    "print('Coherence Score: ', coherence_lda)"
   ]
  },
  {
   "cell_type": "code",
   "execution_count": 19,
   "metadata": {},
   "outputs": [
    {
     "name": "stdout",
     "output_type": "stream",
     "text": [
      "serviço público federal fundação  resolução conselho universitário n  dispõe sobre normas funcionamento assembléia constituinte interna  egrégio conselho universitário universidade f ederal tocantins reunido sessão dia abril resolve   assembléia constituinte interna universidade f ederal tocantins autônoma entendo-se delegados representantes categorias docente discente técnico-administrativa eleitos dir eta livremente pares através voto secreto   projeto final estatuto regimento geral un iversidade federal tocantins submetido conselho univers itário aprovação  atividades assembléia constituinte inte rna precedem todas demais   constituinte interna deflagrada inicia lmente cada campus garantindo picipação plena comunidade universitária  atividades iniciais constituinte intern deverão desenvolvidas prazo meses pir data aprovação presente resolução  cada campus deverá organizar especificidade s realizar debates internos desta primeira etapa  dia junho proceder-se-á el eição delegados categorias docente discente técnico-administrativa observa ndo-se critérios paridade proporcionalidade eleição organizada campus conduzida comissão eleitoral indicada conselho diretor referida unidade   assembléia constituinte interna trata ar tigo  desta resolução compor-se-á delegados repr esentantes categorias docente discente técnico-administrativa assim distribuídos i representantes docentes ii representantes discentes iii representantes técnico-administ rativos  cada eleitor poderá votar apenas candidato categoria  convocados suplentes caso afast amento definitivo titulares candidatos votados dentro categoria rdem votação  tão logo ocorra aumento quadro servidore s técnico-administrativos força concurso público número delegados re presentantes desta categoria equiparará automaticamente demais ficando estabelecido delegados  fica assegurado cada campus mínimo delegado categoria   reitor designará comissão eleitoral composta representante reitoria representantes cada segme nto indicados entidades representativas cuja função técnica coorden ação execução junto comissões eleitorais cada campus processo eleitoral parágrafo único eleição realizada concomitantemente categorias   eleitos delegados recebidos comissão eleit oral resultados oficiais eleição reitor instalará assembléia constituin interna  dirigirá sessão eleição mesa di retora dando-lhe posse imediata  mesa diretora composta presidente b vice-presidente c  secretário d  secretário  imediatamente após posse mesa diretora laborará regimento fixará critérios funcionamento assembléia constituin interna aprovado mínimo terços constituintes observ ado disposto presente resolução prazo dias   projetos estatuto regimento geral univer sidade federal tocantins promulgados após aprovação tur discussão votação mínimo terços constituintes deze mbro sendo seguir submetidos conselho universitário universidade federal t ocantins observado disposto igo  presente resolução estabelece conselho nacional educação   funcionamento assembléia constituinte interna priorizado seguinte forma i representantes cada categoria deverão eleitos dia junho ii trabalhos constituinte interna ins talados dia junho iii prazo funcionamento trabalhos con stituinte interna dezembro   casos omissos resolvidos conselho uni versitário    presente resolução entra vigor pir desta data revogando-se disposições contrário palmas abril prof alan barbiero presidente serviço público federal fundação  resolução conselho universitário n  dispõe sobre normas funcionamento assembléia constituinte interna  egrégio conselho universitário universidade f ederal tocantins reunido sessão dia abril resolve   assembléia constituinte interna universidade f ederal tocantins autônoma entendo-se delegados representantes categorias docente discente técnico-administrativa eleitos dir eta livremente pares através voto secreto   projeto final estatuto regimento geral un iversidade federal tocantins submetido conselho univers itário aprovação  atividades assembléia constituinte inte rna precedem todas demais   constituinte interna deflagrada inicia lmente cada campus garantindo picipação plena comunidade universitária  atividades iniciais constituinte intern deverão desenvolvidas prazo meses pir data aprovação presente resolução  cada campus deverá organizar especificidade s realizar debates internos desta primeira etapa  dia junho proceder-se-á el eição delegados categorias docente discente técnico-administrativa observa ndo-se critérios paridade proporcionalidade eleição organizada campus conduzida comissão eleitoral indicada conselho diretor referida unidade   assembléia constituinte interna trata ar tigo  desta resolução compor-se-á delegados repr esentantes categorias docente discente técnico-administrativa assim distribuídos i representantes docentes ii representantes discentes iii representantes técnico-administ rativos  cada eleitor poderá votar apenas candidato categoria  convocados suplentes caso afast amento definitivo titulares candidatos votados dentro categoria rdem votação  tão logo ocorra aumento quadro servidore s técnico-administrativos força concurso público número delegados re presentantes desta categoria equiparará automaticamente demais ficando estabelecido delegados  fica assegurado cada campus mínimo delegado categoria   reitor designará comissão eleitoral composta representante reitoria representantes cada segme nto indicados entidades representativas cuja função técnica coorden ação execução junto comissões eleitorais cada campus processo eleitoral parágrafo único eleição realizada concomitantemente categorias   eleitos delegados recebidos comissão eleit oral resultados oficiais eleição reitor instalará assembléia constituin interna  dirigirá sessão eleição mesa di retora dando-lhe posse imediata  mesa diretora composta presidente b vice-presidente c  secretário d  secretário  imediatamente após posse mesa diretora laborará regimento fixará critérios funcionamento assembléia constituin interna aprovado mínimo terços constituintes observ ado disposto presente resolução prazo dias   projetos estatuto regimento geral univer sidade federal tocantins promulgados após aprovação tur discussão votação mínimo terços constituintes deze mbro sendo seguir submetidos conselho universitário universidade federal t ocantins observado disposto igo  presente resolução estabelece conselho nacional educação   funcionamento assembléia constituinte interna priorizado seguinte forma i representantes cada categoria deverão eleitos dia junho ii trabalhos constituinte interna ins talados dia junho iii prazo funcionamento trabalhos con stituinte interna dezembro   casos omissos resolvidos conselho uni versitário    presente resolução entra vigor pir desta data revogando-se disposições contrário palmas abril prof alan barbiero presidente\n",
      "Dictionary<255 unique tokens: ['abril', 'ado', 'afast', 'alan', 'amento']...>\n"
     ]
    }
   ],
   "source": [
    "print(text)\n",
    "print(dictionary)"
   ]
  }
 ],
 "metadata": {
  "kernelspec": {
   "display_name": "pre_env",
   "language": "python",
   "name": "python3"
  },
  "language_info": {
   "codemirror_mode": {
    "name": "ipython",
    "version": 3
   },
   "file_extension": ".py",
   "mimetype": "text/x-python",
   "name": "python",
   "nbconvert_exporter": "python",
   "pygments_lexer": "ipython3",
   "version": "3.11.5"
  }
 },
 "nbformat": 4,
 "nbformat_minor": 2
}
